{
 "cells": [
  {
   "cell_type": "code",
   "execution_count": 1,
   "metadata": {},
   "outputs": [],
   "source": [
    "import requests\n",
    "import json\n",
    "import pyttsx3"
   ]
  },
  {
   "cell_type": "code",
   "execution_count": 2,
   "metadata": {},
   "outputs": [],
   "source": [
    "city=input(\"enter your city name:\")\n",
    "url=f\"https://api.weatherapi.com/v1/current.json?key=47b7b7a6cf6a498abf0180426232007&q={city}&aqi=yes\"\n",
    "r=requests.get(url)\n",
    "wdict=json.loads(r.text)\n",
    "temperature=wdict[\"current\"][\"temp_c\"]\n",
    "\n",
    "# hii\n",
    "engine=pyttsx3.init()\n",
    "\n",
    "engine.say(f\"The current temperature in {city} is {temperature} egree celsius\")\n",
    "engine.runAndWait()"
   ]
  }
 ],
 "metadata": {
  "kernelspec": {
   "display_name": "Python 3",
   "language": "python",
   "name": "python3"
  },
  "language_info": {
   "codemirror_mode": {
    "name": "ipython",
    "version": 3
   },
   "file_extension": ".py",
   "mimetype": "text/x-python",
   "name": "python",
   "nbconvert_exporter": "python",
   "pygments_lexer": "ipython3",
   "version": "3.10.9"
  },
  "orig_nbformat": 4
 },
 "nbformat": 4,
 "nbformat_minor": 2
}
